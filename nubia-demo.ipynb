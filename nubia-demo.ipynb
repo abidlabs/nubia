{
 "cells": [
  {
   "cell_type": "markdown",
   "metadata": {},
   "source": [
    "## NUBIA: A SoTA Metric for Evaluating Text Similarity"
   ]
  },
  {
   "cell_type": "markdown",
   "metadata": {},
   "source": [
    "### Import and initialize the Nubia class from nubia.py (wherever you cloned the repo)\n",
    "Note: The first time you initialize the class it will download the pretrained models from the S3 bucket, this could take a while depending on your internet connection. "
   ]
  },
  {
   "cell_type": "code",
   "execution_count": 1,
   "metadata": {},
   "outputs": [],
   "source": [
    "from nubia import Nubia"
   ]
  },
  {
   "cell_type": "code",
   "execution_count": null,
   "metadata": {},
   "outputs": [
    {
     "name": "stdout",
     "output_type": "stream",
     "text": [
      "loading archive file pretrained/roBERTa_STS\n",
      "| [input] dictionary: 50265 types\n",
      "loading archive file pretrained/roBERTa_MNLI\n",
      "| dictionary: 50264 types\n"
     ]
    }
   ],
   "source": [
    "nubia = Nubia()"
   ]
  },
  {
   "cell_type": "markdown",
   "metadata": {},
   "source": [
    "### You're now ready to start evaluating! \n",
    "\n",
    "`nubia.score` takes 7 parameters: `(ref, hyp, verbose=False, get_features=False, six_dim=False, aggregator=\"agg_one\")`\n",
    "\n",
    "`ref` and `hyp` are the strings nubia will compare. \n",
    "\n",
    "Setting `get_features` to `True` will return a dictionary with additional features (semantic relation, contradiction, irrelevancy, logical agreement, and grammaticality) aside from the nubia score. `Verbose=True` prints all the features.\n",
    "\n",
    "`six_dim = True` will use a six dimensional \n",
    "\n",
    "`aggregator` is set to `agg_one` by default, but you may choose to try `agg_two` which is"
   ]
  },
  {
   "cell_type": "code",
   "execution_count": null,
   "metadata": {
    "scrolled": true
   },
   "outputs": [],
   "source": [
    "nubia.score(\"The dinner was delicious.\", \"It was a tasty dinner.\")"
   ]
  },
  {
   "cell_type": "code",
   "execution_count": null,
   "metadata": {},
   "outputs": [],
   "source": [
    "nubia.score(\"The dinner was delicious.\", \"The dinner did not taste good.\")"
   ]
  },
  {
   "cell_type": "code",
   "execution_count": null,
   "metadata": {
    "scrolled": false
   },
   "outputs": [],
   "source": [
    "nubia.score(\"The dinner was delicious.\", \"The dinner did not taste good.\", verbose=True, get_features=True)"
   ]
  }
 ],
 "metadata": {
  "kernelspec": {
   "display_name": "Python 3",
   "language": "python",
   "name": "python3"
  },
  "language_info": {
   "codemirror_mode": {
    "name": "ipython",
    "version": 3
   },
   "file_extension": ".py",
   "mimetype": "text/x-python",
   "name": "python",
   "nbconvert_exporter": "python",
   "pygments_lexer": "ipython3",
   "version": "3.7.3"
  }
 },
 "nbformat": 4,
 "nbformat_minor": 2
}
