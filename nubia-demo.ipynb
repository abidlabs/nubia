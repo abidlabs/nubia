{
 "cells": [
  {
   "cell_type": "markdown",
   "metadata": {},
   "source": [
    "## NUBIA: A SoTA Metric for Evaluating Text Similarity"
   ]
  },
  {
   "cell_type": "markdown",
   "metadata": {},
   "source": [
    "### Import and initialize the Nubia class from nubia.py (wherever you cloned the repo)\n",
    "Note: The first time you initialize the class it will download the pretrained models from the S3 bucket, this could take a while depending on your internet connection. "
   ]
  },
  {
   "cell_type": "code",
   "execution_count": 1,
   "metadata": {},
   "outputs": [],
   "source": [
    "from nubia import Nubia"
   ]
  },
  {
   "cell_type": "code",
   "execution_count": 2,
   "metadata": {},
   "outputs": [
    {
     "name": "stdout",
     "output_type": "stream",
     "text": [
      "loading archive file pretrained/roBERTa_STS\n",
      "| [input] dictionary: 50265 types\n",
      "loading archive file pretrained/roBERTa_MNLI\n",
      "| dictionary: 50264 types\n"
     ]
    }
   ],
   "source": [
    "nubia = Nubia()"
   ]
  },
  {
   "cell_type": "markdown",
   "metadata": {},
   "source": [
    "### You're now ready to start evaluating! \n",
    "\n",
    "`nubia.score` takes 7 parameters: `(ref, hyp, verbose=False, get_features=False, six_dim=False, aggregator=\"agg_one\")`\n",
    "\n",
    "`ref` and `hyp` are the strings nubia will compare. \n",
    "\n",
    "Setting `get_features` to `True` will return a dictionary with additional features (semantic relation, contradiction, irrelevancy, logical agreement, and grammaticality) aside from the nubia score. `Verbose=True` prints all the features.\n",
    "\n",
    "`six_dim = True` will use a six dimensional \n",
    "\n",
    "`aggregator` is set to `agg_one` by default, but you may choose to try `agg_two` which is"
   ]
  },
  {
   "cell_type": "code",
   "execution_count": 3,
   "metadata": {},
   "outputs": [
    {
     "data": {
      "text/plain": [
       "{'nubia_score': 1.0,\n",
       " 'features': {'semantic_relation': 5.0,\n",
       "  'contradiction': 0.07690659840591252,\n",
       "  'irrelevancy': 0.5430479999631643,\n",
       "  'logical_agreement': 99.38004612922668,\n",
       "  'grammar_ref': 5.1724853515625,\n",
       "  'grammar_hyp': 5.1724853515625}}"
      ]
     },
     "execution_count": 3,
     "metadata": {},
     "output_type": "execute_result"
    }
   ],
   "source": [
    "nubia.score(\"The dinner was delicious.\", \"The dinner was delicious.\", get_features=True)"
   ]
  },
  {
   "cell_type": "code",
   "execution_count": 4,
   "metadata": {},
   "outputs": [
    {
     "name": "stdout",
     "output_type": "stream",
     "text": [
      "Semantic relation: 0.8492766618728638/5.0\n",
      "\n",
      "Percent chance of contradiction: 85.56336760520935%\n",
      "\n",
      "Percent chance of irrelevancy 14.210078120231628%\n",
      "\n",
      "Percent chance of logical agreement 0.22655045613646507%\n",
      "\n",
      "Grammaticality score for reference sentence: 6.94056510925293\n",
      "\n",
      "Grammaticality score for candidate sentence:  4.453633785247803\n",
      "\n",
      "\n",
      "NUBIA score: 0.16601562950917936/1.0\n"
     ]
    },
    {
     "data": {
      "text/plain": [
       "0.16601562950917936"
      ]
     },
     "execution_count": 4,
     "metadata": {},
     "output_type": "execute_result"
    }
   ],
   "source": [
    "nubia.score(\"I walked today.\", \"I chatted a lot today.\", verbose=True)"
   ]
  },
  {
   "cell_type": "code",
   "execution_count": 5,
   "metadata": {},
   "outputs": [
    {
     "data": {
      "text/plain": [
       "0.051184517083698755"
      ]
     },
     "execution_count": 5,
     "metadata": {},
     "output_type": "execute_result"
    }
   ],
   "source": [
    "ref = \"I ate an apple for breakfast yesterday\"\n",
    "hyp = \"I swallowed an orange yesterday morning\"\n",
    "\n",
    "nubia.score(ref, hyp)"
   ]
  },
  {
   "cell_type": "code",
   "execution_count": 6,
   "metadata": {},
   "outputs": [
    {
     "data": {
      "text/plain": [
       "{'nubia_score': 0.03754468337982331,\n",
       " 'features': {'semantic_relation': -0.154091939330101,\n",
       "  'contradiction': 22.290563583374023,\n",
       "  'irrelevancy': 55.89175820350647,\n",
       "  'logical_agreement': 21.817678213119507,\n",
       "  'grammar_ref': 4.365912437438965,\n",
       "  'grammar_hyp': 4.5449934005737305}}"
      ]
     },
     "execution_count": 6,
     "metadata": {},
     "output_type": "execute_result"
    }
   ],
   "source": [
    "ref = \"I ate an apple for breakfast yesterday\"\n",
    "hyp = \"Mitochondria is the power house of the cell\"\n",
    "\n",
    "nubia.score(ref, hyp, get_features=True)"
   ]
  },
  {
   "cell_type": "code",
   "execution_count": null,
   "metadata": {},
   "outputs": [],
   "source": []
  }
 ],
 "metadata": {
  "kernelspec": {
   "display_name": "Python 3",
   "language": "python",
   "name": "python3"
  },
  "language_info": {
   "codemirror_mode": {
    "name": "ipython",
    "version": 3
   },
   "file_extension": ".py",
   "mimetype": "text/x-python",
   "name": "python",
   "nbconvert_exporter": "python",
   "pygments_lexer": "ipython3",
   "version": "3.7.3"
  }
 },
 "nbformat": 4,
 "nbformat_minor": 2
}
