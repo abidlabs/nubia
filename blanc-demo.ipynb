{
 "cells": [
  {
   "cell_type": "code",
   "execution_count": 1,
   "metadata": {},
   "outputs": [],
   "source": [
    "from blanc_nn import Blanc"
   ]
  },
  {
   "cell_type": "code",
   "execution_count": 2,
   "metadata": {},
   "outputs": [
    {
     "name": "stdout",
     "output_type": "stream",
     "text": [
      "loading archive file pretrained/roBERTa_STS\n",
      "| [input] dictionary: 50265 types\n",
      "loading archive file pretrained/roBERTa_MNLI\n",
      "| dictionary: 50264 types\n"
     ]
    }
   ],
   "source": [
    "blanc = Blanc()"
   ]
  },
  {
   "cell_type": "code",
   "execution_count": 4,
   "metadata": {},
   "outputs": [
    {
     "data": {
      "text/plain": [
       "-0.7891496160824054"
      ]
     },
     "execution_count": 4,
     "metadata": {},
     "output_type": "execute_result"
    }
   ],
   "source": [
    "ref = \"I ate an apple for breakfast yesterday\"\n",
    "hyp = \"I swallowed an orange yesterday morning\"\n",
    "\n",
    "blanc.score(ref, hyp)"
   ]
  },
  {
   "cell_type": "code",
   "execution_count": 5,
   "metadata": {},
   "outputs": [
    {
     "data": {
      "text/plain": [
       "{'blanc_score': array([-0.93913814]),\n",
       " 'neural_features': array([-0.15409194, -1.50100672, -0.58175325, -1.52244961,  4.36591244,\n",
       "         4.5449934 ])}"
      ]
     },
     "execution_count": 5,
     "metadata": {},
     "output_type": "execute_result"
    }
   ],
   "source": [
    "ref = \"I ate an apple for breakfast yesterday\"\n",
    "hyp = \"Mitochondria is the power house of the cell\"\n",
    "\n",
    "blanc.score(ref, hyp, get_features=True)"
   ]
  }
 ],
 "metadata": {
  "kernelspec": {
   "display_name": "Python 3",
   "language": "python",
   "name": "python3"
  },
  "language_info": {
   "codemirror_mode": {
    "name": "ipython",
    "version": 3
   },
   "file_extension": ".py",
   "mimetype": "text/x-python",
   "name": "python",
   "nbconvert_exporter": "python",
   "pygments_lexer": "ipython3",
   "version": "3.7.3"
  }
 },
 "nbformat": 4,
 "nbformat_minor": 2
}
